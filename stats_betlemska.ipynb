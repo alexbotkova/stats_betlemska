{
 "cells": [
  {
   "cell_type": "markdown",
   "id": "f4ce0182",
   "metadata": {},
   "source": [
    "# Statistika výdělků, spropitného a počtu objednávek v Klubu Betlémská\n",
    "Alexandra Botková\n",
    "\n",
    "Tato statistická práce si klade za cíl stanovit základní statistiky a ověřit dvě hypotézy, že v závislosti na denní době (den: 12.00-18.00, noc: 18:00-24.00) se liší:\n",
    "1) výdělky, spropitné a počet objednávek \n",
    "\n",
    "2) pravděpodobnost obdržení spropitného \n",
    "\n",
    "Tuto pravděpodobnost vypočteme a zjistíme, zda se jedná o binomické rozdělení.\n",
    "\n",
    "### Data\n",
    "Data jsou výpisy z pokladny z kavárny/baru Klub Betlémská ze všedních dnů 11.8. - 15.8. po celou otvírací dobu, tj. od 12.00 do 24.00."
   ]
  },
  {
   "cell_type": "markdown",
   "id": "f19e2e52",
   "metadata": {},
   "source": [
    "### Načtení dat\n",
    "Používaná data jsou uložena v souboru betlemska.pkl, které načteme do dataframe. Pocházejí ze souboru betlemska.pdf a k jejich zpracování slouží data_extraction.py."
   ]
  },
  {
   "cell_type": "code",
   "execution_count": 8,
   "id": "b9bae972",
   "metadata": {},
   "outputs": [
    {
     "data": {
      "text/html": [
       "<div>\n",
       "<style scoped>\n",
       "    .dataframe tbody tr th:only-of-type {\n",
       "        vertical-align: middle;\n",
       "    }\n",
       "\n",
       "    .dataframe tbody tr th {\n",
       "        vertical-align: top;\n",
       "    }\n",
       "\n",
       "    .dataframe thead th {\n",
       "        text-align: right;\n",
       "    }\n",
       "</style>\n",
       "<table border=\"1\" class=\"dataframe\">\n",
       "  <thead>\n",
       "    <tr style=\"text-align: right;\">\n",
       "      <th></th>\n",
       "      <th>Date</th>\n",
       "      <th>Profit</th>\n",
       "      <th>Tips</th>\n",
       "      <th>Hour</th>\n",
       "      <th>TimeOfDay</th>\n",
       "    </tr>\n",
       "  </thead>\n",
       "  <tbody>\n",
       "    <tr>\n",
       "      <th>12</th>\n",
       "      <td>2024-08-15 23:55:02</td>\n",
       "      <td>103.0</td>\n",
       "      <td>2.0</td>\n",
       "      <td>23</td>\n",
       "      <td>Night</td>\n",
       "    </tr>\n",
       "    <tr>\n",
       "      <th>15</th>\n",
       "      <td>2024-08-15 23:50:10</td>\n",
       "      <td>1.0</td>\n",
       "      <td>39.0</td>\n",
       "      <td>23</td>\n",
       "      <td>Night</td>\n",
       "    </tr>\n",
       "    <tr>\n",
       "      <th>16</th>\n",
       "      <td>2024-08-15 23:48:40</td>\n",
       "      <td>1.0</td>\n",
       "      <td>60.0</td>\n",
       "      <td>23</td>\n",
       "      <td>Night</td>\n",
       "    </tr>\n",
       "    <tr>\n",
       "      <th>17</th>\n",
       "      <td>2024-08-15 23:48:21</td>\n",
       "      <td>55.0</td>\n",
       "      <td>15.0</td>\n",
       "      <td>23</td>\n",
       "      <td>Night</td>\n",
       "    </tr>\n",
       "    <tr>\n",
       "      <th>18</th>\n",
       "      <td>2024-08-15 23:45:17</td>\n",
       "      <td>260.0</td>\n",
       "      <td>40.0</td>\n",
       "      <td>23</td>\n",
       "      <td>Night</td>\n",
       "    </tr>\n",
       "    <tr>\n",
       "      <th>...</th>\n",
       "      <td>...</td>\n",
       "      <td>...</td>\n",
       "      <td>...</td>\n",
       "      <td>...</td>\n",
       "      <td>...</td>\n",
       "    </tr>\n",
       "    <tr>\n",
       "      <th>923</th>\n",
       "      <td>2024-08-11 14:40:17</td>\n",
       "      <td>313.0</td>\n",
       "      <td>0.0</td>\n",
       "      <td>14</td>\n",
       "      <td>Day</td>\n",
       "    </tr>\n",
       "    <tr>\n",
       "      <th>924</th>\n",
       "      <td>2024-08-11 14:17:06</td>\n",
       "      <td>156.0</td>\n",
       "      <td>0.0</td>\n",
       "      <td>14</td>\n",
       "      <td>Day</td>\n",
       "    </tr>\n",
       "    <tr>\n",
       "      <th>925</th>\n",
       "      <td>2024-08-11 14:00:22</td>\n",
       "      <td>67.0</td>\n",
       "      <td>0.0</td>\n",
       "      <td>14</td>\n",
       "      <td>Day</td>\n",
       "    </tr>\n",
       "    <tr>\n",
       "      <th>926</th>\n",
       "      <td>2024-08-11 13:59:46</td>\n",
       "      <td>195.0</td>\n",
       "      <td>0.0</td>\n",
       "      <td>13</td>\n",
       "      <td>Day</td>\n",
       "    </tr>\n",
       "    <tr>\n",
       "      <th>927</th>\n",
       "      <td>2024-08-11 13:34:33</td>\n",
       "      <td>65.0</td>\n",
       "      <td>0.0</td>\n",
       "      <td>13</td>\n",
       "      <td>Day</td>\n",
       "    </tr>\n",
       "  </tbody>\n",
       "</table>\n",
       "<p>913 rows × 5 columns</p>\n",
       "</div>"
      ],
      "text/plain": [
       "                   Date  Profit  Tips  Hour TimeOfDay\n",
       "12  2024-08-15 23:55:02   103.0   2.0    23     Night\n",
       "15  2024-08-15 23:50:10     1.0  39.0    23     Night\n",
       "16  2024-08-15 23:48:40     1.0  60.0    23     Night\n",
       "17  2024-08-15 23:48:21    55.0  15.0    23     Night\n",
       "18  2024-08-15 23:45:17   260.0  40.0    23     Night\n",
       "..                  ...     ...   ...   ...       ...\n",
       "923 2024-08-11 14:40:17   313.0   0.0    14       Day\n",
       "924 2024-08-11 14:17:06   156.0   0.0    14       Day\n",
       "925 2024-08-11 14:00:22    67.0   0.0    14       Day\n",
       "926 2024-08-11 13:59:46   195.0   0.0    13       Day\n",
       "927 2024-08-11 13:34:33    65.0   0.0    13       Day\n",
       "\n",
       "[913 rows x 5 columns]"
      ]
     },
     "execution_count": 8,
     "metadata": {},
     "output_type": "execute_result"
    }
   ],
   "source": [
    "import pandas as pd\n",
    "\n",
    "df = pd.read_pickle(\"betlemska.pkl\")\n",
    "df"
   ]
  },
  {
   "cell_type": "markdown",
   "id": "afd833e0",
   "metadata": {},
   "source": [
    "### Základní statistiky\n",
    "Spočteme průměry a odchylky denních výdělků, spropitného a počtu objednávek."
   ]
  },
  {
   "cell_type": "code",
   "execution_count": 9,
   "id": "49022a39",
   "metadata": {},
   "outputs": [
    {
     "name": "stdout",
     "output_type": "stream",
     "text": [
      "Průměrný denní výdělek je 22953.00 Kč s odchylkou 7885.10 Kč\n",
      "Průměrné spropitné za den je 766.00 Kč s odchylkou 243.52 Kč\n",
      "Průměrný počet objednávek za den je 182.60 s odchylkou 48.89\n"
     ]
    }
   ],
   "source": [
    "daily_summary = df.groupby(df['Date'].dt.date).agg(\n",
    "    total_profit=pd.NamedAgg(column='Profit', aggfunc='sum'),\n",
    "    total_tips=pd.NamedAgg(column='Tips', aggfunc='sum'),\n",
    "    total_orders=pd.NamedAgg(column='Profit', aggfunc='size')\n",
    ")\n",
    "\n",
    "average_summary = daily_summary.mean()\n",
    "daily_summary = daily_summary.std()\n",
    "\n",
    "print(\"Průměrný denní výdělek je {:.2f} Kč s odchylkou {:.2f} Kč\".format(average_summary['total_profit'], daily_summary['total_profit']))\n",
    "print(\"Průměrné spropitné za den je {:.2f} Kč s odchylkou {:.2f} Kč\".format(average_summary['total_tips'], daily_summary['total_tips']))\n",
    "print(\"Průměrný počet objednávek za den je {:.2f} s odchylkou {:.2f}\".format(average_summary['total_orders'], daily_summary['total_orders']))"
   ]
  },
  {
   "cell_type": "markdown",
   "id": "a76f0586",
   "metadata": {},
   "source": [
    "### Hypotéza 1\n",
    "Dle nulové hypotézy se průměry pozorovaných dat v závislosti na denní době neliší.\n",
    "\n",
    "Prvně opět spočítáme průměry s odchylkami, ale objednávky rozdělíme na denní a noční."
   ]
  },
  {
   "cell_type": "code",
   "execution_count": 10,
   "id": "e569112e",
   "metadata": {},
   "outputs": [
    {
     "name": "stdout",
     "output_type": "stream",
     "text": [
      "Průměrný denní zisk během dne je 4164.20 Kč s odchylkou 1053.51 Kč.\n",
      "Průměrný denní zisk během noci je 18788.80 Kč s odchylkou 7372.32 Kč.\n",
      "\n",
      "Průměrné denní spropitné během dne je 154.00 Kč s odchylkou 56.66 Kč.\n",
      "Průměrné denní spropitné během noci je 612.00 Kč s odchylkou 220.91 Kč.\n",
      "\n",
      "Průměrný denní počet objednávek během dne je 34.00 s odchylkou 6.44.\n",
      "Průměrný denní počet objednávek během noci je 148.60 s odchylkou 47.29.\n"
     ]
    }
   ],
   "source": [
    "\n",
    "daily_summary = df.groupby([df['Date'].dt.date, 'TimeOfDay']).agg(\n",
    "    total_profit=pd.NamedAgg(column='Profit', aggfunc='sum'),\n",
    "    total_tips=pd.NamedAgg(column='Tips', aggfunc='sum'),\n",
    "    total_orders=pd.NamedAgg(column='Profit', aggfunc='size')\n",
    ").reset_index()\n",
    "\n",
    "day_summary = daily_summary[daily_summary['TimeOfDay'] == 'Day']\n",
    "night_summary = daily_summary[daily_summary['TimeOfDay'] == 'Night']\n",
    "\n",
    "mean_profit_day = day_summary['total_profit'].mean()\n",
    "std_profit_day = day_summary['total_profit'].std()\n",
    "\n",
    "mean_profit_night = night_summary['total_profit'].mean()\n",
    "std_profit_night = night_summary['total_profit'].std()\n",
    "\n",
    "mean_tips_day = day_summary['total_tips'].mean()\n",
    "std_tips_day = day_summary['total_tips'].std()\n",
    "\n",
    "mean_tips_night = night_summary['total_tips'].mean()\n",
    "std_tips_night = night_summary['total_tips'].std()\n",
    "\n",
    "mean_orders_day = day_summary['total_orders'].mean()\n",
    "std_orders_day = day_summary['total_orders'].std()\n",
    "\n",
    "mean_orders_night = night_summary['total_orders'].mean()\n",
    "std_orders_night = night_summary['total_orders'].std()\n",
    "\n",
    "print(\"Průměrný denní zisk během dne je {:.2f} Kč s odchylkou {:.2f} Kč.\".format(mean_profit_day, std_profit_day))\n",
    "print(\"Průměrný denní zisk během noci je {:.2f} Kč s odchylkou {:.2f} Kč.\".format(mean_profit_night, std_profit_night))\n",
    "\n",
    "print(\"\\nPrůměrné denní spropitné během dne je {:.2f} Kč s odchylkou {:.2f} Kč.\".format(mean_tips_day, std_tips_day))\n",
    "print(\"Průměrné denní spropitné během noci je {:.2f} Kč s odchylkou {:.2f} Kč.\".format(mean_tips_night, std_tips_night))\n",
    "\n",
    "print(\"\\nPrůměrný denní počet objednávek během dne je {:.2f} s odchylkou {:.2f}.\".format(mean_orders_day, std_orders_day))\n",
    "print(\"Průměrný denní počet objednávek během noci je {:.2f} s odchylkou {:.2f}.\".format(mean_orders_night, std_orders_night))"
   ]
  },
  {
   "cell_type": "markdown",
   "id": "cffa982b",
   "metadata": {},
   "source": [
    "Spočtené průměry nasvědčují, že sledované hodnoty jsou větší večer a chceme zjistit, zda zde vskutku je statisticky významný rozdíl. K tomu použijeme nezávislý t-test, ale předtím musíme ověřit normalitu agregovaných denních a nočních dat pomocí Shapiro-Wilkova testu."
   ]
  },
  {
   "cell_type": "code",
   "execution_count": 11,
   "id": "9f3a1178",
   "metadata": {},
   "outputs": [
    {
     "data": {
      "text/plain": [
       "(0.8465485221184514, 0.6731689037707724)"
      ]
     },
     "execution_count": 11,
     "metadata": {},
     "output_type": "execute_result"
    }
   ],
   "source": [
    "from scipy.stats import shapiro\n",
    "\n",
    "day_normality = shapiro(day_summary['total_profit'])\n",
    "night_normality = shapiro(night_summary['total_profit'])\n",
    "\n",
    "day_normality.pvalue, night_normality.pvalue"
   ]
  },
  {
   "cell_type": "markdown",
   "id": "8c3d84d0",
   "metadata": {},
   "source": [
    "Obě p-hodnoty naznačují, že můžeme předpokládat normalitu, tudíž můžeme použít t-test."
   ]
  },
  {
   "cell_type": "code",
   "execution_count": 12,
   "id": "7879543c",
   "metadata": {},
   "outputs": [
    {
     "name": "stdout",
     "output_type": "stream",
     "text": [
      "Výsledky t-testu pro zisky:\n",
      "T-statistika: -4.39\n",
      "P-hodnota: 0.0108\n",
      "\n",
      "Výsledky t-testu pro sproppitné:\n",
      "T-statistika: -4.49\n",
      "P-hodnota: 0.0082\n",
      "\n",
      "Výsledky t-testu pro počet objednávek:\n",
      "T-statistika: -5.37\n",
      "P-hodnota: 0.0052\n"
     ]
    }
   ],
   "source": [
    "from scipy.stats import ttest_ind\n",
    "\n",
    "t_stat_profit, p_value_profit = ttest_ind(day_summary['total_profit'], night_summary['total_profit'], equal_var=False)\n",
    "\n",
    "t_stat_tips, p_value_tips = ttest_ind(day_summary['total_tips'], night_summary['total_tips'], equal_var=False)\n",
    "\n",
    "t_stat_orders, p_value_orders = ttest_ind(day_summary['total_orders'], night_summary['total_orders'], equal_var=False)\n",
    "\n",
    "print(\"Výsledky t-testu pro zisky:\")\n",
    "print(\"T-statistika: {:.2f}\".format(t_stat_profit))\n",
    "print(\"P-hodnota: {:.4f}\".format(p_value_profit))\n",
    "\n",
    "print(\"\\nVýsledky t-testu pro sproppitné:\")\n",
    "print(\"T-statistika: {:.2f}\".format(t_stat_tips))\n",
    "print(\"P-hodnota: {:.4f}\".format(p_value_tips))\n",
    "\n",
    "print(\"\\nVýsledky t-testu pro počet objednávek:\")\n",
    "print(\"T-statistika: {:.2f}\".format(t_stat_orders))\n",
    "print(\"P-hodnota: {:.4f}\".format(p_value_orders))"
   ]
  },
  {
   "cell_type": "markdown",
   "id": "a80dc986",
   "metadata": {},
   "source": [
    "Všechny p-hodnoty jsou menší než 0.05, tudíž existuje statisticky významný rozdíl mezi dnem a nocí u sledovaných dat. Negativních t-statistiky potvrzují, že v noci jsou průměrné hodnoty pro zisky, spropitné a počet objednávek vyšší než ve dne."
   ]
  },
  {
   "cell_type": "markdown",
   "id": "339a3060",
   "metadata": {},
   "source": [
    "### Hypotéza 2\n",
    "Pro zjištění, zda se pravděpodobnost obdržení spropitného liší během dne a noci, použijeme chi-kvadrát test."
   ]
  },
  {
   "cell_type": "code",
   "execution_count": 14,
   "id": "4a8c777a",
   "metadata": {},
   "outputs": [
    {
     "name": "stdout",
     "output_type": "stream",
     "text": [
      "Chi-kvadrát: 1.17\n",
      "P-hodnota: 0.2796\n"
     ]
    },
    {
     "data": {
      "text/html": [
       "<div>\n",
       "<style scoped>\n",
       "    .dataframe tbody tr th:only-of-type {\n",
       "        vertical-align: middle;\n",
       "    }\n",
       "\n",
       "    .dataframe tbody tr th {\n",
       "        vertical-align: top;\n",
       "    }\n",
       "\n",
       "    .dataframe thead th {\n",
       "        text-align: right;\n",
       "    }\n",
       "</style>\n",
       "<table border=\"1\" class=\"dataframe\">\n",
       "  <thead>\n",
       "    <tr style=\"text-align: right;\">\n",
       "      <th>ReceivedTip</th>\n",
       "      <th>False</th>\n",
       "      <th>True</th>\n",
       "    </tr>\n",
       "    <tr>\n",
       "      <th>TimeOfDay</th>\n",
       "      <th></th>\n",
       "      <th></th>\n",
       "    </tr>\n",
       "  </thead>\n",
       "  <tbody>\n",
       "    <tr>\n",
       "      <th>Day</th>\n",
       "      <td>114</td>\n",
       "      <td>56</td>\n",
       "    </tr>\n",
       "    <tr>\n",
       "      <th>Night</th>\n",
       "      <td>532</td>\n",
       "      <td>211</td>\n",
       "    </tr>\n",
       "  </tbody>\n",
       "</table>\n",
       "</div>"
      ],
      "text/plain": [
       "ReceivedTip  False  True\n",
       "TimeOfDay               \n",
       "Day            114    56\n",
       "Night          532   211"
      ]
     },
     "execution_count": 14,
     "metadata": {},
     "output_type": "execute_result"
    }
   ],
   "source": [
    "from scipy.stats import chi2_contingency\n",
    "\n",
    "df['ReceivedTip'] = df['Tips'] > 0\n",
    "\n",
    "contingency_table_tips = pd.crosstab(df['TimeOfDay'], df['ReceivedTip'])\n",
    "\n",
    "chi2, p_value, dof, expected = chi2_contingency(contingency_table_tips)\n",
    "\n",
    "print(\"Chi-kvadrát: {:.2f}\".format(chi2))\n",
    "print(\"P-hodnota: {:.4f}\".format(p_value))\n",
    "\n",
    "contingency_table_tips\n"
   ]
  },
  {
   "cell_type": "markdown",
   "id": "00bb1e78",
   "metadata": {},
   "source": [
    "Z důvodu vysoké p-hodnoty nezamítáme nulovou hypotézu, že neexistuje statisticky významný rozdíl mezi dnem a nocí."
   ]
  },
  {
   "cell_type": "markdown",
   "id": "17148725",
   "metadata": {},
   "source": [
    "### Pravděpodobnost obdržení spropitného"
   ]
  },
  {
   "cell_type": "code",
   "execution_count": null,
   "id": "1da5a1cd",
   "metadata": {},
   "outputs": [
    {
     "name": "stdout",
     "output_type": "stream",
     "text": [
      "Pravděpodobnost obdržení spropitného za celý den je 0.29 s odchylkou 0.0151.\n"
     ]
    }
   ],
   "source": [
    "df['ReceivedTip'] = df['Tips'] > 0\n",
    "\n",
    "total_tips_received = df['ReceivedTip'].sum()\n",
    "total_orders = df['ReceivedTip'].count()\n",
    "overall_probability_tip = total_tips_received / total_orders\n",
    "\n",
    "std_dev_overall = np.sqrt(overall_probability_tip * (1 - overall_probability_tip) / total_orders)\n",
    "\n",
    "print(\"Pravděpodobnost obdržení spropitného za celý den je {:.2f} s odchylkou {:.4f}.\".format(overall_probability_tip, std_dev_overall))"
   ]
  },
  {
   "cell_type": "markdown",
   "id": "f86cfe81",
   "metadata": {},
   "source": [
    "Pravděpodobnost vyšla 0.29. Nyní pomocí knihovní funkce ověříme nulovou hypotézu, že se jedná \n",
    "o binomické rozdělení."
   ]
  },
  {
   "cell_type": "code",
   "execution_count": null,
   "id": "740cf534",
   "metadata": {},
   "outputs": [
    {
     "data": {
      "text/plain": [
       "0.8840263196145653"
      ]
     },
     "execution_count": 76,
     "metadata": {},
     "output_type": "execute_result"
    }
   ],
   "source": [
    "from scipy.stats import binomtest\n",
    "\n",
    "binom_test_result_two_tailed = binomtest(total_tips_received, total_orders, 0.29)\n",
    "\n",
    "binom_test_result_two_tailed.pvalue"
   ]
  },
  {
   "cell_type": "markdown",
   "id": "98cadcc8",
   "metadata": {},
   "source": [
    "Nulovou hypotézu nezamítáme, tedy pozorované frekvence spropitného jsou v souladu s binomickým rozdělením s pravděpodobností 0.29."
   ]
  }
 ],
 "metadata": {
  "kernelspec": {
   "display_name": "Python 3 (ipykernel)",
   "language": "python",
   "name": "python3"
  },
  "language_info": {
   "codemirror_mode": {
    "name": "ipython",
    "version": 3
   },
   "file_extension": ".py",
   "mimetype": "text/x-python",
   "name": "python",
   "nbconvert_exporter": "python",
   "pygments_lexer": "ipython3",
   "version": "3.10.5"
  }
 },
 "nbformat": 4,
 "nbformat_minor": 5
}
